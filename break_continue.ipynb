{
 "cells": [
  {
   "cell_type": "markdown",
   "metadata": {},
   "source": [
    "break statement enables a program to skip over a part of the code. A break statement terminates the very loop it lies within."
   ]
  },
  {
   "cell_type": "code",
   "execution_count": 1,
   "metadata": {},
   "outputs": [
    {
     "name": "stdout",
     "output_type": "stream",
     "text": [
      "1 Mississippi\n",
      "2 Mississippi\n",
      "3 Mississippi\n",
      "4 Mississippi\n",
      "5 Mississippi\n",
      "6 Mississippi\n",
      "7 Mississippi\n",
      "8 Mississippi\n",
      "9 Mississippi\n",
      "10 Mississippi\n",
      "11 Mississippi\n",
      "12 Mississippi\n",
      "13 Mississippi\n",
      "14 Mississippi\n",
      "15 Mississippi\n",
      "16 Mississippi\n",
      "17 Mississippi\n",
      "18 Mississippi\n",
      "19 Mississippi\n",
      "20 Mississippi\n",
      "21 Mississippi\n",
      "22 Mississippi\n",
      "23 Mississippi\n",
      "24 Mississippi\n",
      "25 Mississippi\n",
      "26 Mississippi\n",
      "27 Mississippi\n",
      "28 Mississippi\n",
      "29 Mississippi\n",
      "30 Mississippi\n",
      "31 Mississippi\n",
      "32 Mississippi\n",
      "33 Mississippi\n",
      "34 Mississippi\n",
      "35 Mississippi\n",
      "36 Mississippi\n",
      "37 Mississippi\n",
      "38 Mississippi\n",
      "39 Mississippi\n",
      "40 Mississippi\n",
      "41 Mississippi\n",
      "42 Mississippi\n",
      "43 Mississippi\n",
      "44 Mississippi\n",
      "45 Mississippi\n",
      "46 Mississippi\n",
      "47 Mississippi\n",
      "48 Mississippi\n",
      "49 Mississippi\n",
      "50 Thankyou\n"
     ]
    }
   ],
   "source": [
    "for i in range(1,101,1):\n",
    "    print(i,end=\" \")\n",
    "    if(i==50):\n",
    "        break\n",
    "    else:\n",
    "        print(\"Mississippi\")\n",
    "print(\"Thankyou\")"
   ]
  },
  {
   "cell_type": "code",
   "execution_count": 14,
   "metadata": {},
   "outputs": [
    {
     "name": "stdout",
     "output_type": "stream",
     "text": [
      "5 X 1 = 5\n",
      "5 X 2 = 10\n",
      "5 X 3 = 15\n",
      "5 X 4 = 20\n",
      "5 X 5 = 25\n",
      "5 X 6 = 30\n",
      "5 X 7 = 35\n",
      "5 X 8 = 40\n",
      "5 X 9 = 45\n",
      "5 X 10 = 50\n",
      "YUHUHU\n"
     ]
    }
   ],
   "source": [
    "for i in range(12):\n",
    "    if(i==10):\n",
    "       break\n",
    "    print(\"5 X\", i+1, \"=\", 5*(i+1))\n",
    "print(\"YUHUHU\")"
   ]
  },
  {
   "cell_type": "markdown",
   "metadata": {},
   "source": [
    "Continue Statement skips the rest of the loop statements and causes the next iteration to occur."
   ]
  },
  {
   "cell_type": "code",
   "execution_count": 18,
   "metadata": {},
   "outputs": [
    {
     "name": "stdout",
     "output_type": "stream",
     "text": [
      "2\n",
      "4\n",
      "6\n",
      "8\n",
      "0\n"
     ]
    }
   ],
   "source": [
    "for i in [2,3,4,6,8,0]:\n",
    "    if(i%2!=0):\n",
    "        continue\n",
    "    print(i)"
   ]
  },
  {
   "cell_type": "markdown",
   "metadata": {},
   "source": [
    "Do-While loop in python\n",
    "\n",
    "do-while is a loop in which a set of instructiobs will execute at least once(irrespective of the condition) and then the repetition of loop's body will depend on the condition passed at the end of the while loop. It is also known as an exit-controlled loop"
   ]
  },
  {
   "cell_type": "markdown",
   "metadata": {},
   "source": [
    "How to emulate do while loop in python?\n",
    "- To create a do while loop in python, you need to modify the while loop a bit in order to get similar behaviour to a do while loop.\n",
    "\n",
    "The most common technique to emulate a do-while loop in python is to use an infinite while loop with a break statement wrapped in an if statement that checks a given condition and breaks the iteration of that condition becomes true.\n",
    "\n",
    "- do{\n",
    "    \n",
    "     loop body;\n",
    " \n",
    " }while(condition);"
   ]
  },
  {
   "cell_type": "code",
   "execution_count": 19,
   "metadata": {},
   "outputs": [
    {
     "name": "stdout",
     "output_type": "stream",
     "text": [
      "44\n",
      "-1\n"
     ]
    }
   ],
   "source": [
    "while True:\n",
    "    number=int(input(\"Enter a positive number: \"))\n",
    "    print(number)\n",
    "    if not number>0:\n",
    "        break"
   ]
  }
 ],
 "metadata": {
  "kernelspec": {
   "display_name": "Python 3",
   "language": "python",
   "name": "python3"
  },
  "language_info": {
   "codemirror_mode": {
    "name": "ipython",
    "version": 3
   },
   "file_extension": ".py",
   "mimetype": "text/x-python",
   "name": "python",
   "nbconvert_exporter": "python",
   "pygments_lexer": "ipython3",
   "version": "3.11.5"
  }
 },
 "nbformat": 4,
 "nbformat_minor": 2
}
