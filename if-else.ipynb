{
 "cells": [
  {
   "cell_type": "markdown",
   "metadata": {},
   "source": [
    "if-else statements\n",
    "-Sometimes the programmer needs to check the evaluation ofo certain expression(s), whether the expression(s) evaluate to True or False. If the expression evaluates to False, then the program execution follows a different path than it would have if the expression had evaluated to True.\n",
    "\n",
    "Based on this, the conditional statements are further classified into following types:-if\n",
    "-if-else\n",
    "-if-else-elif\n",
    "-nested if-else-elif\n",
    "\n",
    "An if...... else statement evaluates like this:\n",
    "if  the expression evaluates True:\n",
    "Execute the block of code inside else statement. After execution return to the code out of the if.....else block.\n",
    "\n",
    "if the expression evaluates False:\n",
    "Execute the block of code inside else statement. After execution return to the code out of the if..else block"
   ]
  },
  {
   "cell_type": "code",
   "execution_count": 2,
   "metadata": {},
   "outputs": [
    {
     "name": "stdout",
     "output_type": "stream",
     "text": [
      "Your age is: 21\n",
      "You can drive\n"
     ]
    }
   ],
   "source": [
    "a= int(input(\"Enter your age\"))\n",
    "print(\"Your age is:\" , a)\n",
    "if(a>18):\n",
    "    print(\"You can drive\")\n",
    "else:\n",
    "    print(\"You cannot drive\")"
   ]
  },
  {
   "cell_type": "markdown",
   "metadata": {},
   "source": [
    "if else statement only takes conditional statements"
   ]
  },
  {
   "cell_type": "code",
   "execution_count": 3,
   "metadata": {},
   "outputs": [
    {
     "name": "stdout",
     "output_type": "stream",
     "text": [
      "Alexa, do not add Apples to the cart\n"
     ]
    }
   ],
   "source": [
    "applePrice = 210\n",
    "budget = 200\n",
    "if (applePrice <= budget):\n",
    "    print(\"Alexa, add 1kg Apples to the card.\")\n",
    "else:\n",
    "    print(\"Alexa, do not add Apples to the cart\")"
   ]
  },
  {
   "cell_type": "code",
   "execution_count": 5,
   "metadata": {},
   "outputs": [
    {
     "name": "stdout",
     "output_type": "stream",
     "text": [
      "Number is positive\n",
      "I am happy now\n"
     ]
    }
   ],
   "source": [
    "num = int(input(\"Enter the value fo num: \"))\n",
    "if (num < 0):\n",
    "    print(\"Number is negative\")\n",
    "elif (num == 0):\n",
    "    print(\"Number is zero\")\n",
    "else:\n",
    "    print(\"Number is positive\")\n",
    "print(\"I am happy now\")"
   ]
  },
  {
   "cell_type": "markdown",
   "metadata": {},
   "source": [
    "Create a python program capable of greeting you with Good Morning, Good Afternoon and Good Evening. Your program should use time module to get the current hour. "
   ]
  },
  {
   "cell_type": "code",
   "execution_count": 15,
   "metadata": {},
   "outputs": [
    {
     "name": "stdout",
     "output_type": "stream",
     "text": [
      "9 31 52 AM\n",
      "Good Night\n"
     ]
    }
   ],
   "source": [
    "hour = int(time.strftime('%H'))\n",
    "minute = int(time.strftime('%M'))\n",
    "second = int(time.strftime('%S'))\n",
    "am = time.strftime('%p')\n",
    "print(hour,minute,second,am)\n",
    "if(hour>=12 and hour<12 and minute>=0 and second >=0 and am==\"AM\"):\n",
    "    print(\"Good Morning, Have a Nice Day\")\n",
    "elif(hour>=12 and hour<5 and minute>=0 and second>=0 and am==\"PM\"):\n",
    "    print(\"Good Evening\")\n",
    "else:\n",
    "    print(\"Good Night\")"
   ]
  },
  {
   "cell_type": "code",
   "execution_count": 14,
   "metadata": {},
   "outputs": [
    {
     "name": "stdout",
     "output_type": "stream",
     "text": [
      "Current Time is\n",
      "\n",
      "21 50 48\n",
      "Good Night Sir\n"
     ]
    }
   ],
   "source": [
    "import time\n",
    "print(\"Current Time is\" \"\\n\")\n",
    "h = int(time.strftime(\"%H\"))\n",
    "m = int(time.strftime(\"%M\"))\n",
    "s = int(time.strftime(\"%S\"))\n",
    "\n",
    "print(h,m,s)\n",
    "if(h<12<16 and m>=0 and s>=0 ):\n",
    "    print(\"Good Morning Sir, Have a Nice day\")\n",
    "elif(h<12<16 and m>=0 and s>=0 ):\n",
    "    print(\"Good Afternoon Sir\")\n",
    "else:\n",
    "    print(\"Good Night Sir\")\n",
    "      "
   ]
  }
 ],
 "metadata": {
  "kernelspec": {
   "display_name": "Python 3",
   "language": "python",
   "name": "python3"
  },
  "language_info": {
   "codemirror_mode": {
    "name": "ipython",
    "version": 3
   },
   "file_extension": ".py",
   "mimetype": "text/x-python",
   "name": "python",
   "nbconvert_exporter": "python",
   "pygments_lexer": "ipython3",
   "version": "3.11.5"
  }
 },
 "nbformat": 4,
 "nbformat_minor": 2
}
