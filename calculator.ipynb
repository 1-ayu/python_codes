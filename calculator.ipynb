{
 "cells": [
  {
   "cell_type": "code",
   "execution_count": 2,
   "metadata": {},
   "outputs": [
    {
     "name": "stdout",
     "output_type": "stream",
     "text": [
      "33 3\n",
      "Division of 33 and 3 is :  11.0\n",
      "Product of 33 and 3 is :  99\n",
      "Addition of 33 and 3 is :  36\n",
      "Substraction of 33 and 3 is :  30\n"
     ]
    }
   ],
   "source": [
    "m=int(input())\n",
    "n=int(input())\n",
    "print(m,n)\n",
    "ans1=m/n\n",
    "print(\"Division of\",m,\"and\",n,\"is : \",ans1)\n",
    "ans2=m*n\n",
    "print(\"Product of\",m,\"and\",n,\"is : \",ans2)\n",
    "ans3=m+n\n",
    "print(\"Addition of\",m,\"and\",n,\"is : \",ans3)\n",
    "ans4=m-n\n",
    "print(\"Substraction of\",m,\"and\",n,\"is : \",ans4)"
   ]
  },
  {
   "cell_type": "code",
   "execution_count": null,
   "metadata": {},
   "outputs": [],
   "source": []
  }
 ],
 "metadata": {
  "kernelspec": {
   "display_name": "Python 3",
   "language": "python",
   "name": "python3"
  },
  "language_info": {
   "codemirror_mode": {
    "name": "ipython",
    "version": 3
   },
   "file_extension": ".py",
   "mimetype": "text/x-python",
   "name": "python",
   "nbconvert_exporter": "python",
   "pygments_lexer": "ipython3",
   "version": "3.11.5"
  },
  "orig_nbformat": 4
 },
 "nbformat": 4,
 "nbformat_minor": 2
}
